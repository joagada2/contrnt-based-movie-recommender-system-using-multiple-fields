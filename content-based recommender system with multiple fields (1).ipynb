{
 "cells": [
  {
   "cell_type": "markdown",
   "id": "2a8b00bd",
   "metadata": {},
   "source": [
    "# CONTENT-BASED RECOMMENDER SYSTEM USING MULTIPLE FEATURES\n",
    "### PROJECT OVERVIEW\n",
    "Content-based recommender system is considered an effective intelligenct system which recommend items to users based on similarity with items that the user had interacted with. Often times, the description field is vectorized and used to determine the similarity between items. However, a recommender system is more effective when multiple input fields are combined, vectorized and used to claculate the similarity values. In this project, I shall make use of 7 different columns of the The Movie Data Base (tmbd_5000_movies) dataset downloaded from kaggle (https://www.kaggle.com/datasets/tmdb/tmdb-movie-metadata) as at October 2022 to build a recommender system for the movies dataset. "
   ]
  },
  {
   "cell_type": "markdown",
   "id": "08573bc3",
   "metadata": {},
   "source": [
    "### DATASET\n",
    "The old version of the TMBD dataset was recently removed and replaced with new dataset. Several fields of the new dataset contain json files hence I shall use the load data function at https://www.kaggle.com/code/sohier/tmdb-format-introduction/notebook to load the data after which I will write a function to extract the needed information from the json fields. "
   ]
  },
  {
   "cell_type": "markdown",
   "id": "cc59991c",
   "metadata": {},
   "source": [
    "#### STEP 1: IMPORTATION OF LIBRARIES AND LAODING OF DATASET"
   ]
  },
  {
   "cell_type": "code",
   "execution_count": 103,
   "id": "3b1d7d40",
   "metadata": {},
   "outputs": [],
   "source": [
    "#importation of Json and pandas\n",
    "import json\n",
    "import pandas as pd"
   ]
  },
  {
   "cell_type": "code",
   "execution_count": 104,
   "id": "a4efd0c6",
   "metadata": {},
   "outputs": [],
   "source": [
    "#the load_data function\n",
    "def load_tmdb_movies(path):\n",
    "    df = pd.read_csv(path)\n",
    "    df['release_date'] = pd.to_datetime(df['release_date']).apply(lambda x: x.date())\n",
    "    json_columns = ['genres', 'keywords', 'production_countries', 'production_companies', 'spoken_languages']\n",
    "    for column in json_columns:\n",
    "        df[column] = df[column].apply(json.loads)\n",
    "    return df"
   ]
  },
  {
   "cell_type": "code",
   "execution_count": 105,
   "id": "0baf17f9",
   "metadata": {},
   "outputs": [],
   "source": [
    "#application of the load data function\n",
    "movies = load_tmdb_movies(\"tmdb_5000_movies.csv\")"
   ]
  },
  {
   "cell_type": "code",
   "execution_count": 106,
   "id": "0421b1ff",
   "metadata": {},
   "outputs": [
    {
     "data": {
      "text/html": [
       "<div>\n",
       "<style scoped>\n",
       "    .dataframe tbody tr th:only-of-type {\n",
       "        vertical-align: middle;\n",
       "    }\n",
       "\n",
       "    .dataframe tbody tr th {\n",
       "        vertical-align: top;\n",
       "    }\n",
       "\n",
       "    .dataframe thead th {\n",
       "        text-align: right;\n",
       "    }\n",
       "</style>\n",
       "<table border=\"1\" class=\"dataframe\">\n",
       "  <thead>\n",
       "    <tr style=\"text-align: right;\">\n",
       "      <th></th>\n",
       "      <th>budget</th>\n",
       "      <th>genres</th>\n",
       "      <th>homepage</th>\n",
       "      <th>id</th>\n",
       "      <th>keywords</th>\n",
       "      <th>original_language</th>\n",
       "      <th>original_title</th>\n",
       "      <th>overview</th>\n",
       "      <th>popularity</th>\n",
       "      <th>production_companies</th>\n",
       "      <th>production_countries</th>\n",
       "      <th>release_date</th>\n",
       "      <th>revenue</th>\n",
       "      <th>runtime</th>\n",
       "      <th>spoken_languages</th>\n",
       "      <th>status</th>\n",
       "      <th>tagline</th>\n",
       "      <th>title</th>\n",
       "      <th>vote_average</th>\n",
       "      <th>vote_count</th>\n",
       "    </tr>\n",
       "  </thead>\n",
       "  <tbody>\n",
       "    <tr>\n",
       "      <th>0</th>\n",
       "      <td>237000000</td>\n",
       "      <td>[{'id': 28, 'name': 'Action'}, {'id': 12, 'nam...</td>\n",
       "      <td>http://www.avatarmovie.com/</td>\n",
       "      <td>19995</td>\n",
       "      <td>[{'id': 1463, 'name': 'culture clash'}, {'id':...</td>\n",
       "      <td>en</td>\n",
       "      <td>Avatar</td>\n",
       "      <td>In the 22nd century, a paraplegic Marine is di...</td>\n",
       "      <td>150.437577</td>\n",
       "      <td>[{'name': 'Ingenious Film Partners', 'id': 289...</td>\n",
       "      <td>[{'iso_3166_1': 'US', 'name': 'United States o...</td>\n",
       "      <td>2009-12-10</td>\n",
       "      <td>2787965087</td>\n",
       "      <td>162.0</td>\n",
       "      <td>[{'iso_639_1': 'en', 'name': 'English'}, {'iso...</td>\n",
       "      <td>Released</td>\n",
       "      <td>Enter the World of Pandora.</td>\n",
       "      <td>Avatar</td>\n",
       "      <td>7.2</td>\n",
       "      <td>11800</td>\n",
       "    </tr>\n",
       "    <tr>\n",
       "      <th>1</th>\n",
       "      <td>300000000</td>\n",
       "      <td>[{'id': 12, 'name': 'Adventure'}, {'id': 14, '...</td>\n",
       "      <td>http://disney.go.com/disneypictures/pirates/</td>\n",
       "      <td>285</td>\n",
       "      <td>[{'id': 270, 'name': 'ocean'}, {'id': 726, 'na...</td>\n",
       "      <td>en</td>\n",
       "      <td>Pirates of the Caribbean: At World's End</td>\n",
       "      <td>Captain Barbossa, long believed to be dead, ha...</td>\n",
       "      <td>139.082615</td>\n",
       "      <td>[{'name': 'Walt Disney Pictures', 'id': 2}, {'...</td>\n",
       "      <td>[{'iso_3166_1': 'US', 'name': 'United States o...</td>\n",
       "      <td>2007-05-19</td>\n",
       "      <td>961000000</td>\n",
       "      <td>169.0</td>\n",
       "      <td>[{'iso_639_1': 'en', 'name': 'English'}]</td>\n",
       "      <td>Released</td>\n",
       "      <td>At the end of the world, the adventure begins.</td>\n",
       "      <td>Pirates of the Caribbean: At World's End</td>\n",
       "      <td>6.9</td>\n",
       "      <td>4500</td>\n",
       "    </tr>\n",
       "    <tr>\n",
       "      <th>2</th>\n",
       "      <td>245000000</td>\n",
       "      <td>[{'id': 28, 'name': 'Action'}, {'id': 12, 'nam...</td>\n",
       "      <td>http://www.sonypictures.com/movies/spectre/</td>\n",
       "      <td>206647</td>\n",
       "      <td>[{'id': 470, 'name': 'spy'}, {'id': 818, 'name...</td>\n",
       "      <td>en</td>\n",
       "      <td>Spectre</td>\n",
       "      <td>A cryptic message from Bond’s past sends him o...</td>\n",
       "      <td>107.376788</td>\n",
       "      <td>[{'name': 'Columbia Pictures', 'id': 5}, {'nam...</td>\n",
       "      <td>[{'iso_3166_1': 'GB', 'name': 'United Kingdom'...</td>\n",
       "      <td>2015-10-26</td>\n",
       "      <td>880674609</td>\n",
       "      <td>148.0</td>\n",
       "      <td>[{'iso_639_1': 'fr', 'name': 'Français'}, {'is...</td>\n",
       "      <td>Released</td>\n",
       "      <td>A Plan No One Escapes</td>\n",
       "      <td>Spectre</td>\n",
       "      <td>6.3</td>\n",
       "      <td>4466</td>\n",
       "    </tr>\n",
       "    <tr>\n",
       "      <th>3</th>\n",
       "      <td>250000000</td>\n",
       "      <td>[{'id': 28, 'name': 'Action'}, {'id': 80, 'nam...</td>\n",
       "      <td>http://www.thedarkknightrises.com/</td>\n",
       "      <td>49026</td>\n",
       "      <td>[{'id': 849, 'name': 'dc comics'}, {'id': 853,...</td>\n",
       "      <td>en</td>\n",
       "      <td>The Dark Knight Rises</td>\n",
       "      <td>Following the death of District Attorney Harve...</td>\n",
       "      <td>112.312950</td>\n",
       "      <td>[{'name': 'Legendary Pictures', 'id': 923}, {'...</td>\n",
       "      <td>[{'iso_3166_1': 'US', 'name': 'United States o...</td>\n",
       "      <td>2012-07-16</td>\n",
       "      <td>1084939099</td>\n",
       "      <td>165.0</td>\n",
       "      <td>[{'iso_639_1': 'en', 'name': 'English'}]</td>\n",
       "      <td>Released</td>\n",
       "      <td>The Legend Ends</td>\n",
       "      <td>The Dark Knight Rises</td>\n",
       "      <td>7.6</td>\n",
       "      <td>9106</td>\n",
       "    </tr>\n",
       "    <tr>\n",
       "      <th>4</th>\n",
       "      <td>260000000</td>\n",
       "      <td>[{'id': 28, 'name': 'Action'}, {'id': 12, 'nam...</td>\n",
       "      <td>http://movies.disney.com/john-carter</td>\n",
       "      <td>49529</td>\n",
       "      <td>[{'id': 818, 'name': 'based on novel'}, {'id':...</td>\n",
       "      <td>en</td>\n",
       "      <td>John Carter</td>\n",
       "      <td>John Carter is a war-weary, former military ca...</td>\n",
       "      <td>43.926995</td>\n",
       "      <td>[{'name': 'Walt Disney Pictures', 'id': 2}]</td>\n",
       "      <td>[{'iso_3166_1': 'US', 'name': 'United States o...</td>\n",
       "      <td>2012-03-07</td>\n",
       "      <td>284139100</td>\n",
       "      <td>132.0</td>\n",
       "      <td>[{'iso_639_1': 'en', 'name': 'English'}]</td>\n",
       "      <td>Released</td>\n",
       "      <td>Lost in our world, found in another.</td>\n",
       "      <td>John Carter</td>\n",
       "      <td>6.1</td>\n",
       "      <td>2124</td>\n",
       "    </tr>\n",
       "  </tbody>\n",
       "</table>\n",
       "</div>"
      ],
      "text/plain": [
       "      budget                                             genres  \\\n",
       "0  237000000  [{'id': 28, 'name': 'Action'}, {'id': 12, 'nam...   \n",
       "1  300000000  [{'id': 12, 'name': 'Adventure'}, {'id': 14, '...   \n",
       "2  245000000  [{'id': 28, 'name': 'Action'}, {'id': 12, 'nam...   \n",
       "3  250000000  [{'id': 28, 'name': 'Action'}, {'id': 80, 'nam...   \n",
       "4  260000000  [{'id': 28, 'name': 'Action'}, {'id': 12, 'nam...   \n",
       "\n",
       "                                       homepage      id  \\\n",
       "0                   http://www.avatarmovie.com/   19995   \n",
       "1  http://disney.go.com/disneypictures/pirates/     285   \n",
       "2   http://www.sonypictures.com/movies/spectre/  206647   \n",
       "3            http://www.thedarkknightrises.com/   49026   \n",
       "4          http://movies.disney.com/john-carter   49529   \n",
       "\n",
       "                                            keywords original_language  \\\n",
       "0  [{'id': 1463, 'name': 'culture clash'}, {'id':...                en   \n",
       "1  [{'id': 270, 'name': 'ocean'}, {'id': 726, 'na...                en   \n",
       "2  [{'id': 470, 'name': 'spy'}, {'id': 818, 'name...                en   \n",
       "3  [{'id': 849, 'name': 'dc comics'}, {'id': 853,...                en   \n",
       "4  [{'id': 818, 'name': 'based on novel'}, {'id':...                en   \n",
       "\n",
       "                             original_title  \\\n",
       "0                                    Avatar   \n",
       "1  Pirates of the Caribbean: At World's End   \n",
       "2                                   Spectre   \n",
       "3                     The Dark Knight Rises   \n",
       "4                               John Carter   \n",
       "\n",
       "                                            overview  popularity  \\\n",
       "0  In the 22nd century, a paraplegic Marine is di...  150.437577   \n",
       "1  Captain Barbossa, long believed to be dead, ha...  139.082615   \n",
       "2  A cryptic message from Bond’s past sends him o...  107.376788   \n",
       "3  Following the death of District Attorney Harve...  112.312950   \n",
       "4  John Carter is a war-weary, former military ca...   43.926995   \n",
       "\n",
       "                                production_companies  \\\n",
       "0  [{'name': 'Ingenious Film Partners', 'id': 289...   \n",
       "1  [{'name': 'Walt Disney Pictures', 'id': 2}, {'...   \n",
       "2  [{'name': 'Columbia Pictures', 'id': 5}, {'nam...   \n",
       "3  [{'name': 'Legendary Pictures', 'id': 923}, {'...   \n",
       "4        [{'name': 'Walt Disney Pictures', 'id': 2}]   \n",
       "\n",
       "                                production_countries release_date     revenue  \\\n",
       "0  [{'iso_3166_1': 'US', 'name': 'United States o...   2009-12-10  2787965087   \n",
       "1  [{'iso_3166_1': 'US', 'name': 'United States o...   2007-05-19   961000000   \n",
       "2  [{'iso_3166_1': 'GB', 'name': 'United Kingdom'...   2015-10-26   880674609   \n",
       "3  [{'iso_3166_1': 'US', 'name': 'United States o...   2012-07-16  1084939099   \n",
       "4  [{'iso_3166_1': 'US', 'name': 'United States o...   2012-03-07   284139100   \n",
       "\n",
       "   runtime                                   spoken_languages    status  \\\n",
       "0    162.0  [{'iso_639_1': 'en', 'name': 'English'}, {'iso...  Released   \n",
       "1    169.0           [{'iso_639_1': 'en', 'name': 'English'}]  Released   \n",
       "2    148.0  [{'iso_639_1': 'fr', 'name': 'Français'}, {'is...  Released   \n",
       "3    165.0           [{'iso_639_1': 'en', 'name': 'English'}]  Released   \n",
       "4    132.0           [{'iso_639_1': 'en', 'name': 'English'}]  Released   \n",
       "\n",
       "                                          tagline  \\\n",
       "0                     Enter the World of Pandora.   \n",
       "1  At the end of the world, the adventure begins.   \n",
       "2                           A Plan No One Escapes   \n",
       "3                                 The Legend Ends   \n",
       "4            Lost in our world, found in another.   \n",
       "\n",
       "                                      title  vote_average  vote_count  \n",
       "0                                    Avatar           7.2       11800  \n",
       "1  Pirates of the Caribbean: At World's End           6.9        4500  \n",
       "2                                   Spectre           6.3        4466  \n",
       "3                     The Dark Knight Rises           7.6        9106  \n",
       "4                               John Carter           6.1        2124  "
      ]
     },
     "execution_count": 106,
     "metadata": {},
     "output_type": "execute_result"
    }
   ],
   "source": [
    "movies.head()"
   ]
  },
  {
   "cell_type": "markdown",
   "id": "a167630c",
   "metadata": {},
   "source": [
    "#### STEP 2: DATA CLEANING AND PREPARATION"
   ]
  },
  {
   "cell_type": "code",
   "execution_count": 107,
   "id": "d835056f",
   "metadata": {},
   "outputs": [],
   "source": [
    "#function to be used in extraction the required data from the json fields\n",
    "def get_list(x):\n",
    "    names = [i['name'] for i in x]\n",
    "    return names\n"
   ]
  },
  {
   "cell_type": "code",
   "execution_count": 108,
   "id": "3c74d1ed",
   "metadata": {},
   "outputs": [],
   "source": [
    "#Application of the function to the json fields\n",
    "features = ['genres', 'keywords', 'production_countries', 'production_companies', 'spoken_languages']\n",
    "for feature in features:\n",
    "    movies[feature] = movies[feature].apply(get_list)"
   ]
  },
  {
   "cell_type": "code",
   "execution_count": 109,
   "id": "261f3b17",
   "metadata": {},
   "outputs": [
    {
     "data": {
      "text/html": [
       "<div>\n",
       "<style scoped>\n",
       "    .dataframe tbody tr th:only-of-type {\n",
       "        vertical-align: middle;\n",
       "    }\n",
       "\n",
       "    .dataframe tbody tr th {\n",
       "        vertical-align: top;\n",
       "    }\n",
       "\n",
       "    .dataframe thead th {\n",
       "        text-align: right;\n",
       "    }\n",
       "</style>\n",
       "<table border=\"1\" class=\"dataframe\">\n",
       "  <thead>\n",
       "    <tr style=\"text-align: right;\">\n",
       "      <th></th>\n",
       "      <th>genres</th>\n",
       "      <th>keywords</th>\n",
       "      <th>production_countries</th>\n",
       "      <th>production_companies</th>\n",
       "      <th>spoken_languages</th>\n",
       "    </tr>\n",
       "  </thead>\n",
       "  <tbody>\n",
       "    <tr>\n",
       "      <th>0</th>\n",
       "      <td>[Action, Adventure, Fantasy, Science Fiction]</td>\n",
       "      <td>[culture clash, future, space war, space colon...</td>\n",
       "      <td>[United States of America, United Kingdom]</td>\n",
       "      <td>[Ingenious Film Partners, Twentieth Century Fo...</td>\n",
       "      <td>[English, Español]</td>\n",
       "    </tr>\n",
       "    <tr>\n",
       "      <th>1</th>\n",
       "      <td>[Adventure, Fantasy, Action]</td>\n",
       "      <td>[ocean, drug abuse, exotic island, east india ...</td>\n",
       "      <td>[United States of America]</td>\n",
       "      <td>[Walt Disney Pictures, Jerry Bruckheimer Films...</td>\n",
       "      <td>[English]</td>\n",
       "    </tr>\n",
       "    <tr>\n",
       "      <th>2</th>\n",
       "      <td>[Action, Adventure, Crime]</td>\n",
       "      <td>[spy, based on novel, secret agent, sequel, mi...</td>\n",
       "      <td>[United Kingdom, United States of America]</td>\n",
       "      <td>[Columbia Pictures, Danjaq, B24]</td>\n",
       "      <td>[Français, English, Español, Italiano, Deutsch]</td>\n",
       "    </tr>\n",
       "    <tr>\n",
       "      <th>3</th>\n",
       "      <td>[Action, Crime, Drama, Thriller]</td>\n",
       "      <td>[dc comics, crime fighter, terrorist, secret i...</td>\n",
       "      <td>[United States of America]</td>\n",
       "      <td>[Legendary Pictures, Warner Bros., DC Entertai...</td>\n",
       "      <td>[English]</td>\n",
       "    </tr>\n",
       "    <tr>\n",
       "      <th>4</th>\n",
       "      <td>[Action, Adventure, Science Fiction]</td>\n",
       "      <td>[based on novel, mars, medallion, space travel...</td>\n",
       "      <td>[United States of America]</td>\n",
       "      <td>[Walt Disney Pictures]</td>\n",
       "      <td>[English]</td>\n",
       "    </tr>\n",
       "    <tr>\n",
       "      <th>...</th>\n",
       "      <td>...</td>\n",
       "      <td>...</td>\n",
       "      <td>...</td>\n",
       "      <td>...</td>\n",
       "      <td>...</td>\n",
       "    </tr>\n",
       "    <tr>\n",
       "      <th>4798</th>\n",
       "      <td>[Action, Crime, Thriller]</td>\n",
       "      <td>[united states–mexico barrier, legs, arms, pap...</td>\n",
       "      <td>[Mexico, United States of America]</td>\n",
       "      <td>[Columbia Pictures]</td>\n",
       "      <td>[Español]</td>\n",
       "    </tr>\n",
       "    <tr>\n",
       "      <th>4799</th>\n",
       "      <td>[Comedy, Romance]</td>\n",
       "      <td>[]</td>\n",
       "      <td>[]</td>\n",
       "      <td>[]</td>\n",
       "      <td>[]</td>\n",
       "    </tr>\n",
       "    <tr>\n",
       "      <th>4800</th>\n",
       "      <td>[Comedy, Drama, Romance, TV Movie]</td>\n",
       "      <td>[date, love at first sight, narration, investi...</td>\n",
       "      <td>[United States of America]</td>\n",
       "      <td>[Front Street Pictures, Muse Entertainment Ent...</td>\n",
       "      <td>[English]</td>\n",
       "    </tr>\n",
       "    <tr>\n",
       "      <th>4801</th>\n",
       "      <td>[]</td>\n",
       "      <td>[]</td>\n",
       "      <td>[United States of America, China]</td>\n",
       "      <td>[]</td>\n",
       "      <td>[English]</td>\n",
       "    </tr>\n",
       "    <tr>\n",
       "      <th>4802</th>\n",
       "      <td>[Documentary]</td>\n",
       "      <td>[obsession, camcorder, crush, dream girl]</td>\n",
       "      <td>[United States of America]</td>\n",
       "      <td>[rusty bear entertainment, lucky crow films]</td>\n",
       "      <td>[English]</td>\n",
       "    </tr>\n",
       "  </tbody>\n",
       "</table>\n",
       "<p>4803 rows × 5 columns</p>\n",
       "</div>"
      ],
      "text/plain": [
       "                                             genres  \\\n",
       "0     [Action, Adventure, Fantasy, Science Fiction]   \n",
       "1                      [Adventure, Fantasy, Action]   \n",
       "2                        [Action, Adventure, Crime]   \n",
       "3                  [Action, Crime, Drama, Thriller]   \n",
       "4              [Action, Adventure, Science Fiction]   \n",
       "...                                             ...   \n",
       "4798                      [Action, Crime, Thriller]   \n",
       "4799                              [Comedy, Romance]   \n",
       "4800             [Comedy, Drama, Romance, TV Movie]   \n",
       "4801                                             []   \n",
       "4802                                  [Documentary]   \n",
       "\n",
       "                                               keywords  \\\n",
       "0     [culture clash, future, space war, space colon...   \n",
       "1     [ocean, drug abuse, exotic island, east india ...   \n",
       "2     [spy, based on novel, secret agent, sequel, mi...   \n",
       "3     [dc comics, crime fighter, terrorist, secret i...   \n",
       "4     [based on novel, mars, medallion, space travel...   \n",
       "...                                                 ...   \n",
       "4798  [united states–mexico barrier, legs, arms, pap...   \n",
       "4799                                                 []   \n",
       "4800  [date, love at first sight, narration, investi...   \n",
       "4801                                                 []   \n",
       "4802          [obsession, camcorder, crush, dream girl]   \n",
       "\n",
       "                            production_countries  \\\n",
       "0     [United States of America, United Kingdom]   \n",
       "1                     [United States of America]   \n",
       "2     [United Kingdom, United States of America]   \n",
       "3                     [United States of America]   \n",
       "4                     [United States of America]   \n",
       "...                                          ...   \n",
       "4798          [Mexico, United States of America]   \n",
       "4799                                          []   \n",
       "4800                  [United States of America]   \n",
       "4801           [United States of America, China]   \n",
       "4802                  [United States of America]   \n",
       "\n",
       "                                   production_companies  \\\n",
       "0     [Ingenious Film Partners, Twentieth Century Fo...   \n",
       "1     [Walt Disney Pictures, Jerry Bruckheimer Films...   \n",
       "2                      [Columbia Pictures, Danjaq, B24]   \n",
       "3     [Legendary Pictures, Warner Bros., DC Entertai...   \n",
       "4                                [Walt Disney Pictures]   \n",
       "...                                                 ...   \n",
       "4798                                [Columbia Pictures]   \n",
       "4799                                                 []   \n",
       "4800  [Front Street Pictures, Muse Entertainment Ent...   \n",
       "4801                                                 []   \n",
       "4802       [rusty bear entertainment, lucky crow films]   \n",
       "\n",
       "                                     spoken_languages  \n",
       "0                                  [English, Español]  \n",
       "1                                           [English]  \n",
       "2     [Français, English, Español, Italiano, Deutsch]  \n",
       "3                                           [English]  \n",
       "4                                           [English]  \n",
       "...                                               ...  \n",
       "4798                                        [Español]  \n",
       "4799                                               []  \n",
       "4800                                        [English]  \n",
       "4801                                        [English]  \n",
       "4802                                        [English]  \n",
       "\n",
       "[4803 rows x 5 columns]"
      ]
     },
     "execution_count": 109,
     "metadata": {},
     "output_type": "execute_result"
    }
   ],
   "source": [
    "movies[['genres', 'keywords', 'production_countries', 'production_companies', 'spoken_languages']]"
   ]
  },
  {
   "cell_type": "code",
   "execution_count": 110,
   "id": "0c6c47a5",
   "metadata": {},
   "outputs": [],
   "source": [
    "#preparation of the non json fields to be used\n",
    "movies['overview'] = movies['overview'].fillna('')\n",
    "movies['tagline'] = movies['tagline'].fillna('')"
   ]
  },
  {
   "cell_type": "code",
   "execution_count": 111,
   "id": "343ba704",
   "metadata": {},
   "outputs": [],
   "source": [
    "#function to be used in converting the non json fields to list to make them iterable\n",
    "def convert(x):\n",
    "    list = [i for i in x.split()]\n",
    "    return list"
   ]
  },
  {
   "cell_type": "code",
   "execution_count": 112,
   "id": "f6232601",
   "metadata": {},
   "outputs": [],
   "source": [
    "#application of the function to the non json fields\n",
    "features = ['overview', 'tagline']\n",
    "for feature in features:\n",
    "    movies[feature] = movies[feature].apply(convert)"
   ]
  },
  {
   "cell_type": "code",
   "execution_count": 113,
   "id": "b64c746e",
   "metadata": {},
   "outputs": [
    {
     "data": {
      "text/html": [
       "<div>\n",
       "<style scoped>\n",
       "    .dataframe tbody tr th:only-of-type {\n",
       "        vertical-align: middle;\n",
       "    }\n",
       "\n",
       "    .dataframe tbody tr th {\n",
       "        vertical-align: top;\n",
       "    }\n",
       "\n",
       "    .dataframe thead th {\n",
       "        text-align: right;\n",
       "    }\n",
       "</style>\n",
       "<table border=\"1\" class=\"dataframe\">\n",
       "  <thead>\n",
       "    <tr style=\"text-align: right;\">\n",
       "      <th></th>\n",
       "      <th>overview</th>\n",
       "      <th>tagline</th>\n",
       "    </tr>\n",
       "  </thead>\n",
       "  <tbody>\n",
       "    <tr>\n",
       "      <th>0</th>\n",
       "      <td>[In, the, 22nd, century,, a, paraplegic, Marin...</td>\n",
       "      <td>[Enter, the, World, of, Pandora.]</td>\n",
       "    </tr>\n",
       "    <tr>\n",
       "      <th>1</th>\n",
       "      <td>[Captain, Barbossa,, long, believed, to, be, d...</td>\n",
       "      <td>[At, the, end, of, the, world,, the, adventure...</td>\n",
       "    </tr>\n",
       "    <tr>\n",
       "      <th>2</th>\n",
       "      <td>[A, cryptic, message, from, Bond’s, past, send...</td>\n",
       "      <td>[A, Plan, No, One, Escapes]</td>\n",
       "    </tr>\n",
       "    <tr>\n",
       "      <th>3</th>\n",
       "      <td>[Following, the, death, of, District, Attorney...</td>\n",
       "      <td>[The, Legend, Ends]</td>\n",
       "    </tr>\n",
       "    <tr>\n",
       "      <th>4</th>\n",
       "      <td>[John, Carter, is, a, war-weary,, former, mili...</td>\n",
       "      <td>[Lost, in, our, world,, found, in, another.]</td>\n",
       "    </tr>\n",
       "    <tr>\n",
       "      <th>...</th>\n",
       "      <td>...</td>\n",
       "      <td>...</td>\n",
       "    </tr>\n",
       "    <tr>\n",
       "      <th>4798</th>\n",
       "      <td>[El, Mariachi, just, wants, to, play, his, gui...</td>\n",
       "      <td>[He, didn't, come, looking, for, trouble,, but...</td>\n",
       "    </tr>\n",
       "    <tr>\n",
       "      <th>4799</th>\n",
       "      <td>[A, newlywed, couple's, honeymoon, is, upended...</td>\n",
       "      <td>[A, newlywed, couple's, honeymoon, is, upended...</td>\n",
       "    </tr>\n",
       "    <tr>\n",
       "      <th>4800</th>\n",
       "      <td>[\"Signed,, Sealed,, Delivered\", introduces, a,...</td>\n",
       "      <td>[]</td>\n",
       "    </tr>\n",
       "    <tr>\n",
       "      <th>4801</th>\n",
       "      <td>[When, ambitious, New, York, attorney, Sam, is...</td>\n",
       "      <td>[A, New, Yorker, in, Shanghai]</td>\n",
       "    </tr>\n",
       "    <tr>\n",
       "      <th>4802</th>\n",
       "      <td>[Ever, since, the, second, grade, when, he, fi...</td>\n",
       "      <td>[]</td>\n",
       "    </tr>\n",
       "  </tbody>\n",
       "</table>\n",
       "<p>4803 rows × 2 columns</p>\n",
       "</div>"
      ],
      "text/plain": [
       "                                               overview  \\\n",
       "0     [In, the, 22nd, century,, a, paraplegic, Marin...   \n",
       "1     [Captain, Barbossa,, long, believed, to, be, d...   \n",
       "2     [A, cryptic, message, from, Bond’s, past, send...   \n",
       "3     [Following, the, death, of, District, Attorney...   \n",
       "4     [John, Carter, is, a, war-weary,, former, mili...   \n",
       "...                                                 ...   \n",
       "4798  [El, Mariachi, just, wants, to, play, his, gui...   \n",
       "4799  [A, newlywed, couple's, honeymoon, is, upended...   \n",
       "4800  [\"Signed,, Sealed,, Delivered\", introduces, a,...   \n",
       "4801  [When, ambitious, New, York, attorney, Sam, is...   \n",
       "4802  [Ever, since, the, second, grade, when, he, fi...   \n",
       "\n",
       "                                                tagline  \n",
       "0                     [Enter, the, World, of, Pandora.]  \n",
       "1     [At, the, end, of, the, world,, the, adventure...  \n",
       "2                           [A, Plan, No, One, Escapes]  \n",
       "3                                   [The, Legend, Ends]  \n",
       "4          [Lost, in, our, world,, found, in, another.]  \n",
       "...                                                 ...  \n",
       "4798  [He, didn't, come, looking, for, trouble,, but...  \n",
       "4799  [A, newlywed, couple's, honeymoon, is, upended...  \n",
       "4800                                                 []  \n",
       "4801                     [A, New, Yorker, in, Shanghai]  \n",
       "4802                                                 []  \n",
       "\n",
       "[4803 rows x 2 columns]"
      ]
     },
     "execution_count": 113,
     "metadata": {},
     "output_type": "execute_result"
    }
   ],
   "source": [
    "#the non json fields now converted to lists\n",
    "movies[['overview', 'tagline']]"
   ]
  },
  {
   "cell_type": "code",
   "execution_count": 114,
   "id": "f9986ea8",
   "metadata": {},
   "outputs": [],
   "source": [
    "#definition of function to be used in combining all the field to be used into a single field\n",
    "def description(x):\n",
    "    return ' '.join(x['genres']) + ' ' + ' '.join(x['keywords'])+ ' ' + ' '.join(x['production_countries'])+ ' ' + ' '.join(x['production_companies'])+ ' ' + ' '.join(x['spoken_languages'])+ ' ' + ' '.join(x['overview'])+ ' ' + ' '.join(x['tagline'])\n"
   ]
  },
  {
   "cell_type": "code",
   "execution_count": 115,
   "id": "2549f79f",
   "metadata": {},
   "outputs": [],
   "source": [
    "#application of the function\n",
    "movies['description'] = movies.apply(description, axis=1)"
   ]
  },
  {
   "cell_type": "code",
   "execution_count": 116,
   "id": "202f9bb5",
   "metadata": {},
   "outputs": [
    {
     "data": {
      "text/plain": [
       "0       Action Adventure Fantasy Science Fiction cultu...\n",
       "1       Adventure Fantasy Action ocean drug abuse exot...\n",
       "2       Action Adventure Crime spy based on novel secr...\n",
       "3       Action Crime Drama Thriller dc comics crime fi...\n",
       "4       Action Adventure Science Fiction based on nove...\n",
       "                              ...                        \n",
       "4798    Action Crime Thriller united states–mexico bar...\n",
       "4799    Comedy Romance     A newlywed couple's honeymo...\n",
       "4800    Comedy Drama Romance TV Movie date love at fir...\n",
       "4801      United States of America China  English When...\n",
       "4802    Documentary obsession camcorder crush dream gi...\n",
       "Name: description, Length: 4803, dtype: object"
      ]
     },
     "execution_count": 116,
     "metadata": {},
     "output_type": "execute_result"
    }
   ],
   "source": [
    "movies['description']"
   ]
  },
  {
   "cell_type": "markdown",
   "id": "44813df6",
   "metadata": {},
   "source": [
    "#### STEP 3: VECTORIZATION AND ESTIMATION OF COSINE SIMILARITY MATRIX"
   ]
  },
  {
   "cell_type": "code",
   "execution_count": 117,
   "id": "c8a50339",
   "metadata": {},
   "outputs": [],
   "source": [
    "#I will use the CountVectorizer instead of TF-IDF because the presence of some words across multiple document is not noise in this case and such words should not be downgraded\n",
    "from sklearn.feature_extraction.text import CountVectorizer"
   ]
  },
  {
   "cell_type": "code",
   "execution_count": 118,
   "id": "c4254e5b",
   "metadata": {},
   "outputs": [],
   "source": [
    "#vectorizing the newly created description field using the countvectorizer\n",
    "count = CountVectorizer(stop_words='english')\n",
    "count_matrix = count.fit_transform(movies['description'])"
   ]
  },
  {
   "cell_type": "code",
   "execution_count": 119,
   "id": "82c134a6",
   "metadata": {},
   "outputs": [
    {
     "data": {
      "text/plain": [
       "(4803, 26281)"
      ]
     },
     "execution_count": 119,
     "metadata": {},
     "output_type": "execute_result"
    }
   ],
   "source": [
    "count_matrix.shape"
   ]
  },
  {
   "cell_type": "code",
   "execution_count": 120,
   "id": "ddf53b48",
   "metadata": {},
   "outputs": [],
   "source": [
    "#importation of the required library\n",
    "from sklearn.metrics.pairwise import cosine_similarity"
   ]
  },
  {
   "cell_type": "code",
   "execution_count": 121,
   "id": "e20b1e57",
   "metadata": {},
   "outputs": [],
   "source": [
    "#computation of the cosine sililarity matrix\n",
    "cosine_similarity = cosine_similarity(count_matrix, count_matrix)"
   ]
  },
  {
   "cell_type": "markdown",
   "id": "ace5ffd8",
   "metadata": {},
   "source": [
    "#### STEP 4: PREDICTIONS"
   ]
  },
  {
   "cell_type": "code",
   "execution_count": 122,
   "id": "526f89a0",
   "metadata": {},
   "outputs": [],
   "source": [
    "#reseting of index of the main DataFrame and construction reverse mapping\n",
    "movies = movies.reset_index()\n",
    "indices = pd.Series(movies.index, index=movies['title'])"
   ]
  },
  {
   "cell_type": "code",
   "execution_count": 123,
   "id": "bf3a971a",
   "metadata": {},
   "outputs": [
    {
     "data": {
      "text/plain": [
       "title\n",
       "Avatar                                      0\n",
       "Pirates of the Caribbean: At World's End    1\n",
       "Spectre                                     2\n",
       "The Dark Knight Rises                       3\n",
       "John Carter                                 4\n",
       "Spider-Man 3                                5\n",
       "Tangled                                     6\n",
       "Avengers: Age of Ultron                     7\n",
       "Harry Potter and the Half-Blood Prince      8\n",
       "Batman v Superman: Dawn of Justice          9\n",
       "dtype: int64"
      ]
     },
     "execution_count": 123,
     "metadata": {},
     "output_type": "execute_result"
    }
   ],
   "source": [
    "indices[:10]"
   ]
  },
  {
   "cell_type": "code",
   "execution_count": 124,
   "id": "eea08967",
   "metadata": {},
   "outputs": [],
   "source": [
    "#I shall now write a function that will takes in movie title as input and outputs 10 most similar movies\n",
    "def get_recommendations(title, cosine_similarity=cosine_similarity):\n",
    "    #getting the index of the movie that matches the title\n",
    "    idx = indices[title]\n",
    "    #getting the pairwsie similarity scores of all movies with that movie\n",
    "    sim_scores = list(enumerate(cosine_similarity[idx]))\n",
    "    #sorting the movies based on the similarity scores\n",
    "    sim_scores = sorted(sim_scores, key=lambda x: x[1], reverse=True)\n",
    "    #getting the scores of the 10 most similar movies\n",
    "    sim_scores = sim_scores[1:11]\n",
    "    #getting the movie indices\n",
    "    movie_indices = [i[0] for i in sim_scores]\n",
    "    #getting the top 10 most similar movies\n",
    "    return movies['title'].iloc[movie_indices]"
   ]
  },
  {
   "cell_type": "code",
   "execution_count": 125,
   "id": "70b78255",
   "metadata": {},
   "outputs": [
    {
     "data": {
      "text/plain": [
       "65                              The Dark Knight\n",
       "119                               Batman Begins\n",
       "1359                                     Batman\n",
       "428                              Batman Returns\n",
       "299                              Batman Forever\n",
       "210                              Batman & Robin\n",
       "3854    Batman: The Dark Knight Returns, Part 2\n",
       "9            Batman v Superman: Dawn of Justice\n",
       "3819                                   Defendor\n",
       "1664                              Dead Man Down\n",
       "Name: title, dtype: object"
      ]
     },
     "execution_count": 125,
     "metadata": {},
     "output_type": "execute_result"
    }
   ],
   "source": [
    "#applying the recommender function\n",
    "get_recommendations('The Dark Knight Rises')"
   ]
  },
  {
   "cell_type": "code",
   "execution_count": 126,
   "id": "302f2da9",
   "metadata": {},
   "outputs": [
    {
     "data": {
      "text/plain": [
       "210                              Batman & Robin\n",
       "65                              The Dark Knight\n",
       "1359                                     Batman\n",
       "3                         The Dark Knight Rises\n",
       "428                              Batman Returns\n",
       "119                               Batman Begins\n",
       "9            Batman v Superman: Dawn of Justice\n",
       "3854    Batman: The Dark Knight Returns, Part 2\n",
       "72                                Suicide Squad\n",
       "14                                 Man of Steel\n",
       "Name: title, dtype: object"
      ]
     },
     "execution_count": 126,
     "metadata": {},
     "output_type": "execute_result"
    }
   ],
   "source": [
    "get_recommendations('Batman Forever')"
   ]
  }
 ],
 "metadata": {
  "kernelspec": {
   "display_name": "Python 3 (ipykernel)",
   "language": "python",
   "name": "python3"
  },
  "language_info": {
   "codemirror_mode": {
    "name": "ipython",
    "version": 3
   },
   "file_extension": ".py",
   "mimetype": "text/x-python",
   "name": "python",
   "nbconvert_exporter": "python",
   "pygments_lexer": "ipython3",
   "version": "3.9.12"
  }
 },
 "nbformat": 4,
 "nbformat_minor": 5
}
